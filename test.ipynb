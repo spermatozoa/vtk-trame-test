{
 "cells": [
  {
   "cell_type": "code",
   "execution_count": 1,
   "metadata": {},
   "outputs": [],
   "source": [
    "\n",
    "#!/usr/bin/env python\n",
    "\n",
    "import os\n",
    "# noinspection PyUnresolvedReferences\n",
    "import vtkmodules.vtkInteractionStyle\n",
    "# noinspection PyUnresolvedReferences\n",
    "import vtkmodules.vtkRenderingOpenGL2\n",
    "from vtkmodules.vtkCommonColor import vtkNamedColors\n",
    "\n",
    "from vtkmodules.vtkFiltersGeneral import (\n",
    "    vtkWarpVector,\n",
    ")\n",
    "from vtk import vtkDataSetSurfaceFilter\n",
    "from vtkmodules.vtkIOLegacy import vtkUnstructuredGridReader\n",
    "from vtkmodules.vtkRenderingCore import (\n",
    "    vtkActor,\n",
    "    vtkPolyDataMapper,\n",
    "    vtkDataSetMapper,\n",
    "    vtkRenderWindow,\n",
    "    vtkRenderWindowInteractor,\n",
    "    vtkRenderer\n",
    ")\n",
    "from vtkmodules.vtkRenderingAnnotation import vtkCubeAxesActor, vtkAxesActor\n",
    "from vtkmodules.vtkCommonTransforms import vtkTransform\n",
    "from vtkmodules.vtkInteractionWidgets import vtkOrientationMarkerWidget\n",
    "# print(vtkmodules.vtkIOLegacy.__file__)\n",
    "\n"
   ]
  },
  {
   "cell_type": "code",
   "execution_count": 2,
   "metadata": {},
   "outputs": [],
   "source": [
    "# CURRENT_DIRECTORY = os.path.abspath(os.path.dirname(__file__))\n",
    "scale = 0.1\n",
    "\n",
    "colors = vtkNamedColors()\n",
    "\n",
    "reader = vtkUnstructuredGridReader()\n",
    "reader.SetFileName(\"data/linking_rod.vtk\")\n",
    "# reader.SetFileName(\"data/Press_frame.vtk\")\n",
    "# reader.SetFileName(\"data/calculix100.vtk\")\n",
    "# reader.ReadAllScalarsOn()  # Activate the reading of all scalars\n",
    "# reader.ReadAllVectorsOn()  # Activate the reading of all vectors\n",
    "reader.Update()\n",
    "\n",
    "# print(reader.GetName())\n"
   ]
  },
  {
   "cell_type": "code",
   "execution_count": 46,
   "metadata": {},
   "outputs": [],
   "source": [
    "output_port = reader.GetOutputPort()\n",
    "mapper = vtkDataSetMapper()\n",
    "mapper.SetInputConnection(output_port)\n",
    "actor = vtkActor()\n",
    "actor.SetMapper(mapper)\n",
    "\n",
    "renderer = vtkRenderer()\n",
    "renderer.AddActor(actor)\n",
    "renderer.SetBackground(1, 1, 1) # Set background to white\n",
    "\n",
    "renderer_window = vtkRenderWindow()\n",
    "renderer_window.AddRenderer(renderer)\n",
    "interactor = vtkRenderWindowInteractor()\n",
    "interactor.SetRenderWindow(renderer_window)\n",
    "\n",
    "# axes = vtkAxesActor()\n",
    "\n",
    "# widget = vtkOrientationMarkerWidget()\n",
    "# rgba = [0] * 4\n",
    "# colors.GetColor('Carrot', rgba)\n",
    "# widget.SetOutlineColor(rgba[0], rgba[1], rgba[2])\n",
    "# widget.SetOrientationMarker(axes)\n",
    "# widget.SetViewport(0.0, 0.0, 0.4, 0.4)\n",
    "# widget.SetEnabled(1)\n",
    "# widget.InteractiveOn()\n",
    "\n",
    "# widget.SetInteractor(interactor)\n",
    "# actor.SetOrientation(-90,0,90)\n",
    "actor.RotateX(90)\n",
    "actor.RotateZ(180)\n",
    "renderer.ResetCamera()\n",
    "\n",
    "interactor.Initialize()\n",
    "interactor.Start()"
   ]
  },
  {
   "cell_type": "code",
   "execution_count": 9,
   "metadata": {},
   "outputs": [],
   "source": [
    "# noinspection PyUnresolvedReferences\n",
    "import vtkmodules.vtkInteractionStyle\n",
    "# noinspection PyUnresolvedReferences\n",
    "import vtkmodules.vtkRenderingOpenGL2\n",
    "from vtkmodules.vtkCommonColor import vtkNamedColors\n",
    "from vtkmodules.vtkFiltersSources import vtkSphereSource\n",
    "from vtkmodules.vtkIOLegacy import vtkUnstructuredGridReader\n",
    "from vtkmodules.vtkInteractionWidgets import vtkOrientationMarkerWidget\n",
    "from vtkmodules.vtkRenderingAnnotation import vtkAxesActor\n",
    "from vtkmodules.vtkRenderingCore import (\n",
    "    vtkActor,\n",
    "    vtkPolyDataMapper,\n",
    "    vtkRenderWindow,\n",
    "    vtkDataSetMapper,\n",
    "    vtkRenderWindowInteractor,\n",
    "    vtkRenderer\n",
    ")\n",
    "\n",
    "\n",
    "def main():\n",
    "    colors = vtkNamedColors()\n",
    "\n",
    "    reader = vtkUnstructuredGridReader()\n",
    "    reader.SetFileName(\"data/linking_rod.vtk\")\n",
    "# reader.SetFileName(\"data/Press_frame.vtk\")\n",
    "# reader.SetFileName(\"data/calculix100.vtk\")\n",
    "# reader.ReadAllScalarsOn()  # Activate the reading of all scalars\n",
    "# reader.ReadAllVectorsOn()  # Activate the reading of all vectors\n",
    "    reader.Update()\n",
    "\n",
    "    output_port = reader.GetOutputPort()\n",
    "    mapper = vtkDataSetMapper()\n",
    "    mapper.SetInputConnection(output_port)\n",
    "\n",
    "    # Create an actor\n",
    "    actor = vtkActor()\n",
    "    actor.SetMapper(mapper)\n",
    "    actor.GetProperty().SetColor(colors.GetColor3d('MistyRose'))\n",
    "\n",
    "    # A renderer and render window\n",
    "    renderer = vtkRenderer()\n",
    "    renderWindow = vtkRenderWindow()\n",
    "    renderWindow.SetWindowName('DisplayCoordinateAxes')\n",
    "    renderWindow.AddRenderer(renderer)\n",
    "\n",
    "    # An interactor\n",
    "    renderWindowInteractor = vtkRenderWindowInteractor()\n",
    "    renderWindowInteractor.SetRenderWindow(renderWindow)\n",
    "\n",
    "    # Add the actors to the scene\n",
    "    renderer.AddActor(actor)\n",
    "    renderer.SetBackground(colors.GetColor3d('SlateGray'))\n",
    "\n",
    "    axes = vtkAxesActor()\n",
    "    axes.RenderOpaqueGeometry()\n",
    "\n",
    "\n",
    "    widget = vtkOrientationMarkerWidget()\n",
    "    rgba = [0] * 4\n",
    "    colors.GetColor('Carrot', rgba)\n",
    "    widget.SetOutlineColor(rgba[0], rgba[1], rgba[2])\n",
    "    widget.SetOrientationMarker(axes)\n",
    "    widget.SetInteractor(renderWindowInteractor)\n",
    "    widget.SetViewport(0.0, 0.0, 0.3, 0.3)\n",
    "    widget.SetEnabled(1)\n",
    "    widget.InteractiveOff()\n",
    "\n",
    "    # renderer.GetActiveCamera().Azimuth(50)\n",
    "    # renderer.GetActiveCamera().Elevation(-30)\n",
    "\n",
    "    renderer.ResetCamera()\n",
    "    renderWindow.Render()\n",
    "\n",
    "    # Begin mouse interaction\n",
    "    renderWindowInteractor.Start()\n",
    "\n",
    "\n",
    "if __name__ == '__main__':\n",
    "    main()"
   ]
  },
  {
   "cell_type": "code",
   "execution_count": 10,
   "metadata": {},
   "outputs": [
    {
     "name": "stdout",
     "output_type": "stream",
     "text": [
      "24876\n",
      "(9.9920072e-16, 179.58462, -33.0, 33.0, -2.25, 12.75)\n"
     ]
    }
   ],
   "source": [
    "print((reader.GetOutput().GetNumberOfPoints()))\n",
    "print((reader.GetOutput().GetBounds()))"
   ]
  },
  {
   "cell_type": "code",
   "execution_count": 3,
   "metadata": {},
   "outputs": [],
   "source": [
    "num_scalar = reader.GetNumberOfScalarsInFile()\n",
    "scalar_list = []\n",
    "for i in range(num_scalar):\n",
    "    scalar_list.append(reader.GetScalarsNameInFile(i))\n",
    "if len(scalar_list) == 0:\n",
    "    raise Exception(\"no scalars in file\")\n",
    "\n",
    "reader.SetScalarsName(\"sigma\")\n",
    "#reader.ReadAllScalarsOn()\n",
    "reader.Update()  # Needed because of GetScalarRange\n",
    "output = reader.GetOutput()\n",
    "output_port = reader.GetOutputPort()\n",
    "scalar_range = output.GetScalarRange()\n",
    "# Create the mapper that corresponds the objects of the vtk file\n",
    "# into graphics elements\n",
    "mapper = vtkDataSetMapper()\n",
    "mapper.SetInputConnection(output_port)\n",
    "mapper.SetScalarRange(scalar_range)\n",
    "# Create the Actor\n",
    "actor = vtkActor()\n",
    "actor.SetMapper(mapper)\n",
    "\n",
    "# Create the Renderer\n",
    "renderer = vtkRenderer()\n",
    "renderer.AddActor(actor)\n",
    "renderer.SetBackground(1, 1, 1) # Set background to white\n"
   ]
  },
  {
   "cell_type": "code",
   "execution_count": 4,
   "metadata": {},
   "outputs": [],
   "source": [
    "renderer.SetBackground(0, 0, 0) # Set background to black\n",
    "# Cube Axes\n",
    "cube_axes = vtkCubeAxesActor()\n",
    "renderer.AddActor(cube_axes)\n",
    "\n",
    "# Cube Axes: Boundaries, camera, and styling\n",
    "cube_axes.SetBounds(actor.GetBounds())\n",
    "cube_axes.SetCamera(renderer.GetActiveCamera())\n",
    "cube_axes.SetXLabelFormat(\"%6.1f\")\n",
    "cube_axes.SetYLabelFormat(\"%6.1f\")\n",
    "cube_axes.SetZLabelFormat(\"%6.1f\")\n",
    "cube_axes.SetFlyModeToOuterEdges()\n",
    "\n",
    "renderer.ResetCamera()\n",
    "\n",
    "# Create the RendererWindow\n",
    "renderer_window = vtkRenderWindow()\n",
    "renderer_window.AddRenderer(renderer)\n",
    "\n",
    "# Create the RendererWindowInteractor and display the vtk_file\n",
    "interactor = vtkRenderWindowInteractor()\n",
    "interactor.SetRenderWindow(renderer_window)\n",
    "interactor.Initialize()\n",
    "interactor.Start()"
   ]
  },
  {
   "cell_type": "code",
   "execution_count": 7,
   "metadata": {},
   "outputs": [
    {
     "name": "stdout",
     "output_type": "stream",
     "text": [
      "(9.9920072e-16, 179.58462, -33.0, 33.0, -2.25, 12.75)\n",
      "17.952\n"
     ]
    }
   ],
   "source": [
    "print(actor.GetBounds())\n",
    "print(179.52/10)"
   ]
  },
  {
   "cell_type": "code",
   "execution_count": null,
   "metadata": {},
   "outputs": [],
   "source": [
    "renderer.SetBackground(1, 1, 1) # Set background to white\n",
    "renderer.ResetCamera()\n",
    "interactor.Initialize()\n",
    "interactor.Start()"
   ]
  },
  {
   "cell_type": "code",
   "execution_count": 9,
   "metadata": {},
   "outputs": [],
   "source": [
    "from trame.app import get_server\n",
    "\n",
    "server = get_server()\n",
    "\n",
    "server.cli.add_argument(\"-d\", \"--data\", help=\"Directory to explore\", dest=\"data\")\n",
    "args = server.cli.parse_args()\n",
    "print(args.data)"
   ]
  },
  {
   "cell_type": "code",
   "execution_count": 20,
   "metadata": {},
   "outputs": [
    {
     "name": "stdout",
     "output_type": "stream",
     "text": [
      "there is dir in  C:\\Users\\showa\\Desktop\\vtk\\data\\step1\n",
      "there is file in  C:\\Users\\showa\\Desktop\\vtk\\data\n",
      "{'step1': ['linking_rod.vtk', 'Tea_pot_-_bake-bfbaa72.vtk'], 'step2': ['222linking_rod.vtk', '222tea_pot.vtk']}\n"
     ]
    }
   ],
   "source": [
    "import os\n",
    "root_dir = \"C:\\\\Users\\\\showa\\\\Desktop\\\\vtk\\\\data\"\n",
    "sub_dir_files = {}\n",
    "for item in os.listdir(root_dir):\n",
    "    sub_path = os.path.join(root_dir, item)\n",
    "    if os.path.isdir(sub_path):\n",
    "        file_list = []\n",
    "        for f in os.listdir(sub_path):\n",
    "            f_path = os.path.join(sub_path, f)\n",
    "            if os.path.isfile(f_path):\n",
    "                file_list.append(f)\n",
    "            elif os.path.isdir(f_path):\n",
    "                print(\"there is dir in \", sub_path)\n",
    "        sub_dir_files[item] = file_list\n",
    "    elif os.path.isfile(sub_path):\n",
    "        print(\"there is file in \", root_dir)\n",
    "print(sub_dir_files)\n",
    "        "
   ]
  },
  {
   "cell_type": "code",
   "execution_count": 31,
   "metadata": {},
   "outputs": [
    {
     "data": {
      "text/plain": [
       "0"
      ]
     },
     "execution_count": 31,
     "metadata": {},
     "output_type": "execute_result"
    }
   ],
   "source": [
    "# print(reader.GetVectorsNameInFile(0))\n",
    "# print(reader.GetScalarsNameInFile(0))\n",
    "# print(reader.GetNumberOfVectorsInFile())\n",
    "# print(reader.GetNumberOfScalarsInFile())\n",
    "\n",
    "# print exreacted Vectors name\n",
    "# reader.GetVectorsName()\n",
    "from vtkmodules.vtkCommonDataModel import vtkDataObject\n",
    "vtkDataObject.FIELD_ASSOCIATION_POINTS\n"
   ]
  },
  {
   "cell_type": "code",
   "execution_count": 48,
   "metadata": {},
   "outputs": [
    {
     "name": "stdout",
     "output_type": "stream",
     "text": [
      "(0.00636192, 16.5193)\n"
     ]
    }
   ],
   "source": [
    "scalar_range = reader.GetOutput().GetScalarRange()\n",
    "print(scalar_range)\n",
    "# vector_range = reader.GetOutput().GetVectorRange()\n",
    "# print(vector_range)"
   ]
  },
  {
   "cell_type": "code",
   "execution_count": 54,
   "metadata": {},
   "outputs": [],
   "source": [
    "# Set the name of the vector data to extract.\n",
    "reader.SetVectorsName(reader.GetVectorsNameInFile(0))\n",
    "\n",
    "# surfaceFilter = vtkDataSetSurfaceFilter()\n",
    "# surfaceFilter.SetInputData(reader.GetOutput())\n",
    "# surfaceFilter.Update()\n",
    "# polydata = surfaceFilter.GetOutput()\n",
    "# WarpVector will use the array marked as active vector in polydata\n",
    "# it has to be a 3 component array\n",
    "# with the same number of tuples as points in polydata\n",
    "warpVector = vtkWarpVector()\n",
    "warpVector.SetInputData(reader.GetOutput())\n",
    "warpVector.SetScaleFactor(0)\n",
    "warpVector.Update()\n",
    "\n",
    "# mapper = vtkPolyDataMapper()\n",
    "mapper = vtkDataSetMapper()\n",
    "\n",
    "# mapper.SetInputData(warpVector.GetPolyDataOutput())\n",
    "# mapper.SetInputData(polydata)\n",
    "mapper.SetInputData(warpVector.GetOutput())\n",
    "\n",
    "actor = vtkActor()\n",
    "actor.SetMapper(mapper)\n",
    "\n",
    "renderer = vtkRenderer()\n",
    "renderer.AddActor(actor)\n",
    "renderer.SetBackground(colors.GetColor3d('cobalt_green'))\n",
    "\n",
    "renderWindow = vtkRenderWindow()\n",
    "renderWindow.AddRenderer(renderer)\n",
    "renderWindow.SetWindowName('WarpVector')\n",
    "\n",
    "renderWindowInteractor = vtkRenderWindowInteractor()\n",
    "renderWindowInteractor.SetRenderWindow(renderWindow)\n",
    "renderWindow.Render()\n",
    "renderWindowInteractor.Start()"
   ]
  },
  {
   "cell_type": "code",
   "execution_count": 47,
   "metadata": {},
   "outputs": [],
   "source": [
    "from trame.app import get_server\n",
    "from trame.ui.vuetify import SinglePageWithDrawerLayout\n",
    "from trame.widgets import vtk, vuetify, trame\n"
   ]
  },
  {
   "cell_type": "code",
   "execution_count": 49,
   "metadata": {},
   "outputs": [
    {
     "name": "stdout",
     "output_type": "stream",
     "text": [
      "No server available for element v-btn\n",
      "'NoneType' object has no attribute 'client_type'\n",
      "<v-btn html-error />\n"
     ]
    }
   ],
   "source": [
    "vb = vuetify.VBtn(variant=\"tonal\")\n",
    "\n",
    "print(vb.html)\n",
    "# print((max_slide._attributes))"
   ]
  },
  {
   "cell_type": "code",
   "execution_count": 2,
   "metadata": {},
   "outputs": [],
   "source": [
    "import os\n",
    "\n",
    "from trame.app import get_server\n",
    "from trame.ui.vuetify import SinglePageWithDrawerLayout\n",
    "from trame.widgets import vtk, vuetify, trame\n",
    "\n",
    "from vtkmodules.vtkCommonDataModel import vtkDataObject\n",
    "from vtkmodules.vtkFiltersCore import vtkContourFilter\n",
    "from vtkmodules.vtkIOXML import vtkXMLUnstructuredGridReader\n",
    "from vtkmodules.vtkIOLegacy import vtkUnstructuredGridReader\n",
    "from vtkmodules.vtkRenderingAnnotation import vtkCubeAxesActor\n",
    "\n",
    "from vtkmodules.vtkRenderingCore import (\n",
    "    vtkActor,\n",
    "    vtkDataSetMapper,\n",
    "    vtkRenderer,\n",
    "    vtkRenderWindow,\n",
    "    vtkRenderWindowInteractor,\n",
    ")\n",
    "\n",
    "from vtkmodules.vtkCommonColor import vtkNamedColors\n",
    "# Required for interactor initialization\n",
    "from vtkmodules.vtkInteractionStyle import vtkInteractorStyleSwitch  # noqa\n",
    "\n",
    "# Required for rendering initialization, not necessary for\n",
    "# local rendering, but doesn't hurt to include it\n",
    "import vtkmodules.vtkRenderingOpenGL2  # noqa"
   ]
  },
  {
   "cell_type": "code",
   "execution_count": 7,
   "metadata": {},
   "outputs": [],
   "source": [
    "colors = vtkNamedColors()\n",
    "\n",
    "reader = vtkUnstructuredGridReader()\n",
    "reader.SetFileName(\"data/linking_rod.vtk\")\n",
    "reader.Update()\n",
    "\n",
    "renderer = vtkRenderer()\n",
    "# renderer.AddActor(actor)\n",
    "renderer.SetBackground(colors.GetColor3d('cobalt_green'))\n",
    "\n",
    "renderWindow = vtkRenderWindow()\n",
    "renderWindow.AddRenderer(renderer)\n",
    "renderWindow.SetWindowName('Surface')\n",
    "\n",
    "# Extract Array/Field information\n",
    "dataset_arrays = []\n",
    "fields = [\n",
    "    (reader.GetOutput().GetPointData(), vtkDataObject.FIELD_ASSOCIATION_POINTS),\n",
    "    (reader.GetOutput().GetCellData(), vtkDataObject.FIELD_ASSOCIATION_CELLS),\n",
    "]\n",
    "for field in fields:\n",
    "    field_arrays, association = field\n",
    "    for i in range(field_arrays.GetNumberOfArrays()):\n",
    "        array = field_arrays.GetArray(i)\n",
    "        array_range = array.GetRange()\n",
    "        dataset_arrays.append(\n",
    "            {\n",
    "                \"text\": array.GetName(),\n",
    "                \"value\": i,\n",
    "                \"range\": list(array_range),\n",
    "                \"type\": association,\n",
    "            }\n",
    "        )\n",
    "default_array = dataset_arrays[0]\n",
    "default_min, default_max = default_array.get(\"range\")\n",
    "\n",
    "# Mesh\n",
    "mesh_mapper = vtkDataSetMapper()\n",
    "mesh_mapper.SetInputConnection(reader.GetOutputPort())\n",
    "mesh_actor = vtkActor()\n",
    "mesh_actor.SetMapper(mesh_mapper)\n",
    "renderer.AddActor(mesh_actor)\n",
    "\n",
    "# Mesh: Setup default representation to surface\n",
    "# mesh_actor.GetProperty().SetRepresentationToSurface()\n",
    "# mesh_actor.GetProperty().SetPointSize(1)\n",
    "# mesh_actor.GetProperty().EdgeVisibilityOff()\n",
    "# mesh_actor.GetProperty().SetRepresentationToWireframe()\n",
    "# mesh_actor.GetProperty().SetPointSize(1)\n",
    "# mesh_actor.GetProperty().EdgeVisibilityOff()\n",
    "mesh_actor.GetProperty().SetRepresentationToPoints()\n",
    "mesh_actor.GetProperty().SetPointSize(5)\n",
    "mesh_actor.GetProperty().EdgeVisibilityOff()\n",
    "\n",
    "# Mesh: Apply rainbow color map\n",
    "# mesh_lut = mesh_mapper.GetLookupTable()\n",
    "# mesh_lut.SetHueRange(0.666, 0.0)\n",
    "# mesh_lut.SetSaturationRange(1.0, 1.0)\n",
    "# mesh_lut.SetValueRange(1.0, 1.0)\n",
    "# mesh_lut.Build()\n",
    "\n",
    "# # Mesh: Color by default array\n",
    "# mesh_mapper.SelectColorArray(default_array.get(\"text\"))\n",
    "# mesh_mapper.GetLookupTable().SetRange(default_min, default_max)\n",
    "# if default_array.get(\"type\") == vtkDataObject.FIELD_ASSOCIATION_POINTS:\n",
    "#     mesh_mapper.SetScalarModeToUsePointFieldData()\n",
    "# else:\n",
    "#     mesh_mapper.SetScalarModeToUseCellFieldData()\n",
    "# mesh_mapper.SetScalarVisibility(True)\n",
    "# mesh_mapper.SetUseLookupTableScalarRange(True)\n",
    "\n",
    "\n",
    "renderWindowInteractor = vtkRenderWindowInteractor()\n",
    "renderWindowInteractor.SetRenderWindow(renderWindow)\n",
    "renderWindow.Render()\n",
    "renderWindowInteractor.Start()"
   ]
  },
  {
   "cell_type": "code",
   "execution_count": null,
   "metadata": {},
   "outputs": [],
   "source": [
    "from PIL import Image\n",
    "# Read image\n",
    "img = Image.open('g4g.png')\n",
    " \n",
    "# Output Images\n",
    "img.show()\n"
   ]
  }
 ],
 "metadata": {
  "kernelspec": {
   "display_name": "vtk_trame",
   "language": "python",
   "name": "python3"
  },
  "language_info": {
   "codemirror_mode": {
    "name": "ipython",
    "version": 3
   },
   "file_extension": ".py",
   "mimetype": "text/x-python",
   "name": "python",
   "nbconvert_exporter": "python",
   "pygments_lexer": "ipython3",
   "version": "3.9.16"
  },
  "orig_nbformat": 4,
  "vscode": {
   "interpreter": {
    "hash": "308512e3505c5f5053a89889cdeb9dd08c5f16b858313013d29305e4c1bbe729"
   }
  }
 },
 "nbformat": 4,
 "nbformat_minor": 2
}
